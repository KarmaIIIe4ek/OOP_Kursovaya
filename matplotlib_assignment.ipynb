{
  "cells": [
    {
      "cell_type": "markdown",
      "metadata": {
        "id": "zNEBttqyfxlC"
      },
      "source": [
        "# Основы машинного обучения: лабораторная работа №1\n",
        "## Задание 2. Знакомство с Matplotlib и LaTeX\n",
        "\n",
        "В этом задании по номеру варианта задана параметризованная математическая функция. Необходимо её оценить и визуализировать на графике с помощью Python.\n",
        "\n",
        "### Цель\n",
        "\n",
        "Научиться выполнять базовые математические операции с помощью `numpy` и визуализировать результаты с помощью `matplotlib`\n",
        "\n",
        "### Оценивание и баллы\n",
        "\n",
        "За это задание в общей сложности можно получить до 2 баллов. Задание частично проверяется автоматически, а частично будет оцениваться вручную. Чтобы получить максимальный балл,  необходимо успешно выполнить приведенные ниже задачи."
      ]
    },
    {
      "cell_type": "markdown",
      "metadata": {
        "id": "jQ8gBZ1IfxlE"
      },
      "source": [
        "## Часть 1. Определить номер варианта\n",
        "\n",
        "Начнем с импорта библиотеки `numpy`. Она понадобится позже для выполнения некоторых математических операций. Также потребуется библиотека `matplotlib.pyplot`, чтобы визуализировать результаты вычислений."
      ]
    },
    {
      "cell_type": "code",
      "execution_count": 6,
      "metadata": {
        "id": "UVM9iwiBfxlF"
      },
      "outputs": [],
      "source": [
        "import numpy as np\n",
        "from matplotlib import pyplot as plt"
      ]
    },
    {
      "cell_type": "markdown",
      "metadata": {
        "id": "fvTEIa6JfxlF"
      },
      "source": [
        "Перейдите по ссылке из личного кабинета на Google Таблицу со списком студентов. Найдите свое ФИО в списке и запомните соответствующий порядковый номер (поле `№ п/п`) в первом столбце. Заполните его в ячейке ниже и выполните ячейку. Если вы не можете найти себя в списке, обратитесь к преподавателю, принимающему лабораторные работы."
      ]
    },
    {
      "cell_type": "code",
      "execution_count": 2,
      "metadata": {
        "id": "_t3oCbJAfxlG"
      },
      "outputs": [],
      "source": [
        "### BEGIN YOUR CODE\n",
        "\n",
        "Student_ID = 29\n",
        "\n",
        "### END YOUR CODE"
      ]
    },
    {
      "cell_type": "markdown",
      "metadata": {
        "id": "7zNVMW7ofxlG"
      },
      "source": [
        "Теперь выполните следующую ячейку. Она вычислит номер задания и выведет его."
      ]
    },
    {
      "cell_type": "code",
      "execution_count": 3,
      "metadata": {
        "id": "1uoO_bYVfxlG",
        "outputId": "a6f55223-dca7-49e7-d3a4-c77ebd8c85d1",
        "colab": {
          "base_uri": "https://localhost:8080/"
        }
      },
      "outputs": [
        {
          "output_type": "stream",
          "name": "stdout",
          "text": [
            "Пожалуйста, используйте математическую функцию No 4 ниже.\n"
          ]
        }
      ],
      "source": [
        "task_id = None if Student_ID is None else Student_ID % 25 if Student_ID % 25 > 0 else 25\n",
        "print(f\"Пожалуйста, используйте математическую функцию No {task_id} ниже.\")"
      ]
    },
    {
      "cell_type": "markdown",
      "metadata": {
        "id": "6Qc8Qy8DfxlG"
      },
      "source": [
        "![mathematical_functions.png](https://github.com/hse-mlwp-2022/assignment2-template/raw/main/mathematical_functions.png)"
      ]
    },
    {
      "cell_type": "markdown",
      "metadata": {
        "id": "vcf0UtlNfxlH"
      },
      "source": [
        "В списке математических функций, представленных выше, $y$, или, более корректно, $y(x)$, является зависимой переменной, полученной в результате вычисления математической функции. $a$, $b$, $c$, $d$ — это скалярные параметры функции, а $x$ — независимая переменная.\n",
        "\n",
        "Теперь, когда функция выбрана, запишите её в ячейке ниже, используя LaTeX, и выполните ячейку, чтобы отобразить её."
      ]
    },
    {
      "cell_type": "markdown",
      "metadata": {
        "id": "N-Equi3BfxlH"
      },
      "source": [
        "$$  y = a \\ln ( b + cx ) $$"
      ]
    },
    {
      "cell_type": "markdown",
      "metadata": {
        "id": "ViTGkhulfxlH"
      },
      "source": [
        "## Часть 2. Вычисления в Python\n",
        "\n",
        "Напишите функцию на Python, которая вычисляет математическую функцию $y(x)$ с заданными скалярными параметрами $a$, $b$, $c$, $d$ (если применимо) и списком значений независимой переменной $x$. Найти математические функции, доступные в библиотеке `numpy`, можно [здесь](https://numpy.org/doc/stable/reference/routines.math.html).\n",
        "\n",
        "Пример для функции $y(x) = a \\sin^2x + b\\log_cx$ может выглядеть так:\n",
        "```python\n",
        "def my_function(x,a,b,c,d):\n",
        "    return a * np.sin(x) ** 2 + b * np.log(x) / np.log(c)\n",
        "```"
      ]
    },
    {
      "cell_type": "code",
      "execution_count": 8,
      "metadata": {
        "id": "4nMVDkAMfxlH"
      },
      "outputs": [],
      "source": [
        "def my_function(x,a,b,c):\n",
        "  return a * np.log(b + c * np.array(x))\n",
        ""
      ]
    },
    {
      "cell_type": "markdown",
      "metadata": {
        "id": "NGvLTE5HfxlI"
      },
      "source": [
        "Задайте значения для параметров $a$, $b$, $c$, $d$ и укажите диапазон для переменной $x$:"
      ]
    },
    {
      "cell_type": "code",
      "execution_count": 23,
      "metadata": {
        "id": "0THwZt7ufxlI"
      },
      "outputs": [],
      "source": [
        "### BEGIN YOUR CODE\n",
        "\n",
        "a1, b1, c1 = 2, 4, 5\n",
        "a2, b2, c2 = 30, 20, 10\n",
        "#d = 2 not used\n",
        "x = np.linspace(0, 10, 100)\n",
        "\n",
        "### END YOUR CODE"
      ]
    },
    {
      "cell_type": "markdown",
      "metadata": {
        "id": "i0fOYiKVfxlI"
      },
      "source": [
        "Вычислите значения функции $y(x)$ на интервале `x`. Необходимо сделать это векторно и без использования циклов. Постройте график функции. Измените значения параметров $a$, $b$, $c$, $d$ и $x$ в ячейке выше, чтобы получить аккуратный, понятный и красивый график."
      ]
    },
    {
      "cell_type": "code",
      "execution_count": 24,
      "metadata": {
        "id": "J-UTTqsofxlI",
        "outputId": "46bdcdfb-d7b7-44c5-a873-d1bc6b20b3df",
        "colab": {
          "base_uri": "https://localhost:8080/",
          "height": 607
        }
      },
      "outputs": [
        {
          "output_type": "display_data",
          "data": {
            "text/plain": [
              "<Figure size 1200x600 with 2 Axes>"
            ],
            "image/png": "[encoded data removed]"
          },
          "metadata": {}
        }
      ],
      "source": [
        "### BEGIN YOUR CODE\n",
        "\n",
        "y1 = my_function(x, a1, b1, c1)\n",
        "y2 = my_function(x, a2, b2, c2)\n",
        "\n",
        "plt.figure(figsize=(12, 6))\n",
        "\n",
        "plt.subplot(1, 2, 1)\n",
        "plt.plot(x, y1, color='red', linestyle='--', label=f'a={a1}, b={b1}, c={c1}')\n",
        "plt.title('График 1')\n",
        "plt.xlabel('x')\n",
        "plt.ylabel('y')\n",
        "plt.legend()\n",
        "plt.grid(True)\n",
        "\n",
        "plt.subplot(1, 2, 2)\n",
        "plt.plot(x, y2, color='blue', linestyle='-.', label=f'a={a2}, b={b2}, c={c2}')\n",
        "plt.title('График 2')\n",
        "plt.xlabel('x')\n",
        "plt.ylabel('y')\n",
        "plt.legend()\n",
        "plt.grid(True)\n",
        "\n",
        "plt.tight_layout()\n",
        "plt.show()\n",
        "\n",
        "### END YOUR CODE"
      ]
    },
    {
      "cell_type": "markdown",
      "metadata": {
        "id": "lVpQGdyUfxlJ"
      },
      "source": [
        "### Кастомизируйте свой график\n",
        "\n",
        "Настройте внешний вид рисунка в ячейке выше. Измените цвет графика функции (например, задайте его красным), обновите стиль линии (например, нарисуйте пунктирную линию или штрих-пунктир), добавьте подписи, метки и так далее. Ознакомьтесь с [документацией](https://matplotlib.org/stable/api/_as_gen/matplotlib.pyplot.plot.html) для получения дополнительных сведений. Попробуйте разместить несколько графиков с разными наборами значений параметров $a$, $b$, $c$, $d$ на одном рисунке, используя `subplot`. Посмотрите примеры из официального [руководства](https://matplotlib.org/stable/tutorials/index.html) для вдохновения."
      ]
    },
    {
      "cell_type": "markdown",
      "metadata": {
        "id": "B3zWnab1fxlJ"
      },
      "source": [
        "## Часть 3. Линейная алгебра в Python\n",
        "\n",
        "Вычислите скалярное произведение двух векторов `vector_a` и `vector_b`, заданных в ячейке с кодом ниже. Результат поместите в переменную `dot_product`."
      ]
    },
    {
      "cell_type": "code",
      "execution_count": 28,
      "metadata": {
        "id": "gFK1_9PsfxlJ",
        "outputId": "982462ad-17d7-486d-f577-bfd6040a4270",
        "colab": {
          "base_uri": "https://localhost:8080/"
        }
      },
      "outputs": [
        {
          "output_type": "stream",
          "name": "stdout",
          "text": [
            "Вектор A: [[73  8 10  7 19]]\n",
            "Вектор B: \n",
            " [[48]\n",
            " [20]\n",
            " [ 4]\n",
            " [44]\n",
            " [43]]\n",
            "Cкалярное произведение <A, B>=[[4829]]\n"
          ]
        }
      ],
      "source": [
        "rng = np.random.RandomState(Student_ID)\n",
        "vector_a = rng.choice(np.arange(100, dtype=np.int32), size=(1,5), replace=False)\n",
        "vector_b = rng.choice(np.arange(100, dtype=np.int32), size=(5,1), replace=False)\n",
        "\n",
        "### BEGIN YOUR CODE\n",
        "\n",
        "dot_product = np.dot(vector_a, vector_b)\n",
        "\n",
        "### END YOUR CODE\n",
        "\n",
        "print(f'Вектор A: {vector_a}\\nВектор B: \\n {vector_b}\\nCкалярное произведение <A, B>={dot_product}')"
      ]
    },
    {
      "cell_type": "markdown",
      "metadata": {
        "id": "wz_BdPnAfxlK"
      },
      "source": [
        "### Оценивание работы\n",
        "\n",
        "За заполнение расположенных выше ячеек можно получить:\n",
        "- максимум 0.5 балла за корректно заполненную ячейку с математической функцией, набранной с помощью LaTeX;\n",
        "- максимум 0.5 балла за корректно работающий код во всех ячейках с кодом;\n",
        "- максимум 1 балл за создание графика с внешним видом \"не по умолчанию\"."
      ]
    },
    {
      "cell_type": "code",
      "execution_count": 28,
      "metadata": {
        "id": "Crh2BuQXfxlL"
      },
      "outputs": [],
      "source": []
    }
  ],
  "metadata": {
    "kernelspec": {
      "display_name": "Python [conda env:base] *",
      "language": "python",
      "name": "conda-base-py"
    },
    "language_info": {
      "codemirror_mode": {
        "name": "ipython",
        "version": 3
      },
      "file_extension": ".py",
      "mimetype": "text/x-python",
      "name": "python",
      "nbconvert_exporter": "python",
      "pygments_lexer": "ipython3",
      "version": "3.12.7"
    },
    "colab": {
      "provenance": []
    }
  },
  "nbformat": 4,
  "nbformat_minor": 0
}